{
  "nbformat": 4,
  "nbformat_minor": 0,
  "metadata": {
    "colab": {
      "provenance": []
    },
    "kernelspec": {
      "name": "python3",
      "display_name": "Python 3"
    },
    "language_info": {
      "name": "python"
    }
  },
  "cells": [
    {
      "cell_type": "code",
      "execution_count": 2,
      "metadata": {
        "colab": {
          "base_uri": "https://localhost:8080/"
        },
        "id": "hp9FDdE5jCkM",
        "outputId": "d034e9d7-4e1a-4008-e940-0a6e8fb8715a"
      },
      "outputs": [
        {
          "output_type": "stream",
          "name": "stdout",
          "text": [
            "Enter the desired password length: 67\n",
            "Include uppercase letters? (yes/no): YES\n",
            "Include special characters? (yes/no): yes\n",
            "Include digits? (yes/no): yes\n",
            "Zx)baMs#;v/~886^>#$)>|p'b}8Qo&P\\5z%5Q:dv3efqEn/cP)&\"I2wVI/!\\4}~9[)L\n"
          ]
        }
      ],
      "source": [
        "# collect user preferences\n",
        "# - length\n",
        "# - should contain uppercase\n",
        "# - should contain special\n",
        "# - should contain digits\n",
        "\n",
        "# get all available characters\n",
        "# randomly pick characters up to the length\n",
        "# ensure we have at least one of each character type\n",
        "# ensure length is valid\n",
        "\n",
        "import random\n",
        "import string\n",
        "\n",
        "def generate_password():\n",
        "    length = int(input(\"Enter the desired password length: \").strip())\n",
        "    include_uppercase = input(\"Include uppercase letters? (yes/no): \").strip().lower()\n",
        "    include_special = input(\"Include special characters? (yes/no): \").strip().lower()\n",
        "    include_digits = input(\"Include digits? (yes/no): \").strip().lower()\n",
        "\n",
        "    if length < 4:\n",
        "        print(\"Password length must be at least 4 characters.\")\n",
        "        return\n",
        "\n",
        "    lower = string.ascii_lowercase\n",
        "    uppercase = string.ascii_uppercase if include_uppercase == \"yes\" else \"\"\n",
        "    special = string.punctuation if include_special == \"yes\" else \"\"\n",
        "    digits = string.digits if include_digits == \"yes\" else \"\"\n",
        "    all_characters = lower + uppercase + special + digits\n",
        "\n",
        "    required_characters = []\n",
        "    if include_uppercase == \"yes\":\n",
        "        required_characters.append(random.choice(uppercase))\n",
        "    if include_special == \"yes\":\n",
        "        required_characters.append(random.choice(special))\n",
        "    if include_digits == \"yes\":\n",
        "        required_characters.append(random.choice(digits))\n",
        "\n",
        "    remaining_length = length - len(required_characters)\n",
        "    password = required_characters\n",
        "\n",
        "    for _ in range(remaining_length):\n",
        "        character = random.choice(all_characters)\n",
        "        password.append(character)\n",
        "\n",
        "    random.shuffle(password)\n",
        "\n",
        "    str_password = \"\".join(password)\n",
        "    return str_password\n",
        "\n",
        "\n",
        "password = generate_password()\n",
        "print(password)\n"
      ]
    },
    {
      "cell_type": "code",
      "source": [],
      "metadata": {
        "id": "1US4ntmijDOF"
      },
      "execution_count": null,
      "outputs": []
    }
  ]
}